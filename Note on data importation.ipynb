{
 "cells": [
  {
   "cell_type": "markdown",
   "id": "69753a7b",
   "metadata": {},
   "source": [
    "# Note on data importation"
   ]
  },
  {
   "cell_type": "markdown",
   "id": "427cbfb2",
   "metadata": {},
   "source": [
    "Data importation is the first step to performing PCA-n2v. MSI data should than be transformed into a matrix (.npy) or better a sparse matrix (.npz) before further processing. Keep in mind that the format 'float16' is not supported in .npz matrixes.\n",
    "\n",
    "For IonTOF systems, we recommend exporting all the data in .txt format. This creates as many files as are m/z. The function \"iontof_to_matrix\" has been especially implemented for this purpose.\n",
    "\n",
    "For PHI data, we recommend exporting the data as .tif images in a dedicated folder. Warning: this functions only if the maximum value of pixels is 256, otherwise you might need to split one peak into several peaks. The function \"tif_to_matrix\" performs the task of turning a set of .tif images into a matrix.\n",
    "\n",
    "We have not implemented functions for other systems but we will be very happy to include the functions you build for your own data into this Github as a service to the community."
   ]
  },
  {
   "cell_type": "code",
   "execution_count": null,
   "id": "ad0a87d7",
   "metadata": {},
   "outputs": [],
   "source": []
  }
 ],
 "metadata": {
  "kernelspec": {
   "display_name": "Python 3 (ipykernel)",
   "language": "python",
   "name": "python3"
  },
  "language_info": {
   "codemirror_mode": {
    "name": "ipython",
    "version": 3
   },
   "file_extension": ".py",
   "mimetype": "text/x-python",
   "name": "python",
   "nbconvert_exporter": "python",
   "pygments_lexer": "ipython3",
   "version": "3.10.11"
  }
 },
 "nbformat": 4,
 "nbformat_minor": 5
}
